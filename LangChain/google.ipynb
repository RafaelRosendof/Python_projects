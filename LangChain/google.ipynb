{
 "cells": [
  {
   "cell_type": "code",
   "execution_count": 1,
   "metadata": {},
   "outputs": [],
   "source": [
    "import requests , json , os , dotenv"
   ]
  },
  {
   "cell_type": "code",
   "execution_count": 3,
   "metadata": {},
   "outputs": [
    {
     "name": "stdout",
     "output_type": "stream",
     "text": [
      "The dotenv extension is already loaded. To reload it, use:\n",
      "  %reload_ext dotenv\n"
     ]
    }
   ],
   "source": [
    "%load_ext dotenv\n",
    "%dotenv"
   ]
  },
  {
   "cell_type": "code",
   "execution_count": 22,
   "metadata": {},
   "outputs": [],
   "source": [
    "sQuery = \"\"\"\n",
    "\n",
    "{\n",
    "  SKU : '087086',\n",
    "}\n",
    "\n",
    "\"\"\"\n",
    "\n",
    "url = \"https://www.googleapis.com/customsearch/v1\"\n",
    "url1 = \"https://cse.google.com/cse?cx=5528c52e78e7e453d\"\n",
    "\n"
   ]
  },
  {
   "cell_type": "code",
   "execution_count": 28,
   "metadata": {},
   "outputs": [],
   "source": [
    "params = {\n",
    "    \n",
    "    'q' : sQuery,\n",
    "    'key': os.getenv('GOOGLE_API_KEY'),\n",
    "    'cx' : os.getenv('GOOGLE_CSE_ID'),\n",
    "    'lr' : 'lang_pt',\n",
    "    'gl' : 'BR'\n",
    "}\n",
    "\n",
    "resp = requests.get(url , params=params)\n",
    "\n",
    "#print(resp.json())\n",
    "\n",
    "results = resp.json()['items']\n",
    "\n",
    "if 'items' in results:\n",
    "    print(results['items'][0]['link'])"
   ]
  },
  {
   "cell_type": "code",
   "execution_count": 29,
   "metadata": {},
   "outputs": [
    {
     "name": "stdout",
     "output_type": "stream",
     "text": [
      "https://aje.ind.br/produto/valvula-reguladora-e-antichama/\n",
      "https://www.autopecasmolina.com.br/087086-antichama-defletor-gol-parati-mi-16v-cordoba-golf-aje\n",
      "https://aje.ind.br/produto/separador-de-oleo-da-sprinter/\n",
      "https://aje.ind.br/produto/kit-cavalete-de-distribuicao-de-aguacarcaca-tampa-valvula/\n",
      "https://aje.ind.br/produto/separador-de-vapor-de-oleo/\n",
      "https://www.autopecasaraucarias.com.br/anti-chama-aje-087086\n",
      "https://shopee.com.br/Tampa-Do-Reservatorio-Do-Radiador-Fiat-Linea-2008-a-2016-i.293562168.9848287313\n",
      "https://familiamuda.com.br/product/revista-pesca-companhia-varias-edicoes/\n",
      "https://www.academia.edu/41364272/Gilberto_Brasil\n"
     ]
    }
   ],
   "source": [
    "for item in results:\n",
    "    print(item['link'])"
   ]
  },
  {
   "cell_type": "code",
   "execution_count": 32,
   "metadata": {},
   "outputs": [
    {
     "name": "stdout",
     "output_type": "stream",
     "text": [
      "Request deu certo \n",
      "https://aje.ind.br/produto/valvula-reguladora-e-antichama/\n",
      "https://www.autopecasmolina.com.br/087086-antichama-defletor-gol-parati-mi-16v-cordoba-golf-aje\n",
      "https://aje.ind.br/produto/separador-de-oleo-da-sprinter/\n",
      "https://aje.ind.br/produto/kit-cavalete-de-distribuicao-de-aguacarcaca-tampa-valvula/\n",
      "https://aje.ind.br/produto/separador-de-vapor-de-oleo/\n",
      "https://www.autopecasaraucarias.com.br/anti-chama-aje-087086\n"
     ]
    }
   ],
   "source": [
    "if resp.status_code == 200:\n",
    "    print(\"Request deu certo \")\n",
    "\n",
    "    results = resp.json()['items']\n",
    "\n",
    "    if results:\n",
    "\n",
    "        for i , item in enumerate(results):\n",
    "            if i > 5:\n",
    "                break\n",
    "            print(item['link'])\n",
    "    \n",
    "    else:\n",
    "        print(\"Nenhum resultado encontrado\")\n",
    "\n",
    "else:\n",
    "    print(\"Request falhou\")"
   ]
  },
  {
   "cell_type": "code",
   "execution_count": null,
   "metadata": {},
   "outputs": [],
   "source": [
    "'''\n",
    "Código para ser testado \n",
    "import openai\n",
    "\n",
    "# Função para interagir com o GPT e processar os resultados\n",
    "def process_with_gpt(links):\n",
    "    openai.api_key = os.getenv('OPENAI_API_KEY')\n",
    "\n",
    "    # Formatar links em um prompt para GPT\n",
    "    prompt = \"Extraia informações relevantes dos seguintes links:\\n\"\n",
    "    for link in links:\n",
    "        prompt += f\"- {link}\\n\"\n",
    "\n",
    "    # Chamada para GPT\n",
    "    response = openai.Completion.create(\n",
    "        engine=\"text-davinci-003\",  # Use o modelo GPT de sua preferência\n",
    "        prompt=prompt,\n",
    "        max_tokens=500\n",
    "    )\n",
    "    \n",
    "    # Retornar a resposta do GPT\n",
    "    return response.choices[0].text.strip()\n",
    "\n",
    "# Chamando o Google Custom Search\n",
    "if resp.status_code == 200:\n",
    "    results = resp.json().get('items', [])\n",
    "    if results:\n",
    "        links = [item['link'] for item in results]\n",
    "\n",
    "        # Usar GPT para processar os links e extrair informações\n",
    "        gpt_response = process_with_gpt(links)\n",
    "        print(\"GPT Response:\", gpt_response)\n",
    "    else:\n",
    "        print(\"No items found in search results.\")\n",
    "else:\n",
    "    print(f\"Error: {resp.status_code}\")\n",
    "'''"
   ]
  }
 ],
 "metadata": {
  "kernelspec": {
   "display_name": "figas2",
   "language": "python",
   "name": "python3"
  },
  "language_info": {
   "codemirror_mode": {
    "name": "ipython",
    "version": 3
   },
   "file_extension": ".py",
   "mimetype": "text/x-python",
   "name": "python",
   "nbconvert_exporter": "python",
   "pygments_lexer": "ipython3",
   "version": "3.9.18"
  }
 },
 "nbformat": 4,
 "nbformat_minor": 2
}
